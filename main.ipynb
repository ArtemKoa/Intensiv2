{
 "cells": [
  {
   "cell_type": "code",
   "execution_count": 1,
   "metadata": {},
   "outputs": [],
   "source": [
    "import pandas as pd"
   ]
  },
  {
   "cell_type": "code",
   "execution_count": 2,
   "metadata": {},
   "outputs": [],
   "source": [
    "# Загрузка CSV файла\n",
    "df = pd.read_csv('comments.csv')"
   ]
  },
  {
   "cell_type": "code",
   "execution_count": 3,
   "metadata": {},
   "outputs": [
    {
     "name": "stdout",
     "output_type": "stream",
     "text": [
      "<class 'pandas.core.frame.DataFrame'>\n",
      "RangeIndex: 2308 entries, 0 to 2307\n",
      "Data columns (total 8 columns):\n",
      " #   Column                                Non-Null Count  Dtype  \n",
      "---  ------                                --------------  -----  \n",
      " 0   id                                    2308 non-null   int64  \n",
      " 1   rating                                2308 non-null   int64  \n",
      " 2   comment                               2308 non-null   object \n",
      " 3   Нравится скорость отработки заявок    0 non-null      float64\n",
      " 4   Нравится качество выполнения заявки   0 non-null      float64\n",
      " 5   Нравится качество работы сотрудников  0 non-null      float64\n",
      " 6   Понравилось выполнение заявки         0 non-null      float64\n",
      " 7   Вопрос решен                          0 non-null      float64\n",
      "dtypes: float64(5), int64(2), object(1)\n",
      "memory usage: 144.4+ KB\n"
     ]
    }
   ],
   "source": [
    "df.info()"
   ]
  },
  {
   "cell_type": "code",
   "execution_count": 4,
   "metadata": {},
   "outputs": [],
   "source": [
    "# Удаление дубликатов\n",
    "df = df.drop_duplicates()"
   ]
  },
  {
   "cell_type": "code",
   "execution_count": 5,
   "metadata": {},
   "outputs": [],
   "source": [
    "# Удаление строк, где столбец 'comment' пустой\n",
    "df = df[df['comment'].notna() & (df['comment'] != '')]\n",
    "\n",
    "# Сохранение очищенного CSV файла\n",
    "df.to_csv('comments.csv', index=False)"
   ]
  },
  {
   "cell_type": "code",
   "execution_count": 6,
   "metadata": {},
   "outputs": [
    {
     "name": "stdout",
     "output_type": "stream",
     "text": [
      "<class 'pandas.core.frame.DataFrame'>\n",
      "RangeIndex: 2308 entries, 0 to 2307\n",
      "Data columns (total 8 columns):\n",
      " #   Column                                Non-Null Count  Dtype  \n",
      "---  ------                                --------------  -----  \n",
      " 0   id                                    2308 non-null   int64  \n",
      " 1   rating                                2308 non-null   int64  \n",
      " 2   comment                               2308 non-null   object \n",
      " 3   Нравится скорость отработки заявок    0 non-null      float64\n",
      " 4   Нравится качество выполнения заявки   0 non-null      float64\n",
      " 5   Нравится качество работы сотрудников  0 non-null      float64\n",
      " 6   Понравилось выполнение заявки         0 non-null      float64\n",
      " 7   Вопрос решен                          0 non-null      float64\n",
      "dtypes: float64(5), int64(2), object(1)\n",
      "memory usage: 144.4+ KB\n"
     ]
    }
   ],
   "source": [
    "df.info()"
   ]
  },
  {
   "cell_type": "markdown",
   "metadata": {},
   "source": [
    "С помощью ключевых слов определяются категории у комментариев"
   ]
  },
  {
   "cell_type": "code",
   "execution_count": 7,
   "metadata": {},
   "outputs": [],
   "source": [
    "\n",
    "# Определяем категории и ключевые слова\n",
    "categories = {\n",
    "    \"Нравится скорость отработки заявок\": [\"быстро\", \"быстрая\", \"быстрый\", \"скорость\", \"оперативно\"],\n",
    "    \"Нравится качество выполнения заявки\": [\"качество\", \"хорошо\", \"прекрасно\", \"сервис\"],\n",
    "    \"Нравится качество работы сотрудников\": [\"работа\", \"сотрудники\", \"сотрудник\", \"мастер\", \"команда\"],\n",
    "    \"Понравилось выполнение заявки\": [\"выполнение\", \"решение\"],\n",
    "    \"Вопрос решен\": [\"решен\", \"решена\", \"ответ\", \"разрешен\", \"спасибо\", \"благодарю\", \"отлично\"]\n",
    "}\n",
    "\n",
    "# Функция для определения категорий по комментарию\n",
    "def categorize_comment(comment):\n",
    "    \n",
    "    matched_categories = []\n",
    "    # Проверяем на положительные ключевые слова\n",
    "    for category, keywords in categories.items():\n",
    "        if any(keyword in comment.lower() for keyword in keywords):\n",
    "            matched_categories.append(category)\n",
    "    \n",
    "    # Если нет совпадений по положительным категориям, добавляем \"Вопрос не решён\"\n",
    "    if not matched_categories:\n",
    "        matched_categories.append(\"Не определено\")\n",
    "    \n",
    "    return matched_categories\n",
    "\n",
    "# Создаем новый столбец для категорий\n",
    "df['categories'] = ''\n",
    "\n",
    "# Применяем функцию ко всем комментариям\n",
    "for index, row in df.iterrows():\n",
    "    matched_categories = categorize_comment(row['comment'])\n",
    "    # Объединяем категории в одну строку, разделенную запятыми\n",
    "    df.at[index, 'categories'] = ', '.join(matched_categories)\n",
    "\n",
    "# Сохраняем результат в новый CSV файл\n",
    "df.to_csv('output_file.csv', index=False)\n"
   ]
  },
  {
   "cell_type": "code",
   "execution_count": 8,
   "metadata": {},
   "outputs": [
    {
     "name": "stdout",
     "output_type": "stream",
     "text": [
      "<class 'pandas.core.frame.DataFrame'>\n",
      "RangeIndex: 2308 entries, 0 to 2307\n",
      "Data columns (total 9 columns):\n",
      " #   Column                                Non-Null Count  Dtype  \n",
      "---  ------                                --------------  -----  \n",
      " 0   id                                    2308 non-null   int64  \n",
      " 1   rating                                2308 non-null   int64  \n",
      " 2   comment                               2308 non-null   object \n",
      " 3   Нравится скорость отработки заявок    0 non-null      float64\n",
      " 4   Нравится качество выполнения заявки   0 non-null      float64\n",
      " 5   Нравится качество работы сотрудников  0 non-null      float64\n",
      " 6   Понравилось выполнение заявки         0 non-null      float64\n",
      " 7   Вопрос решен                          0 non-null      float64\n",
      " 8   categories                            2308 non-null   object \n",
      "dtypes: float64(5), int64(2), object(2)\n",
      "memory usage: 162.4+ KB\n"
     ]
    }
   ],
   "source": [
    "df.info()"
   ]
  },
  {
   "cell_type": "markdown",
   "metadata": {},
   "source": [
    "Размечаю остальные данные в Excel"
   ]
  },
  {
   "cell_type": "markdown",
   "metadata": {},
   "source": [
    "Открытие размеченного файла"
   ]
  },
  {
   "cell_type": "code",
   "execution_count": 9,
   "metadata": {},
   "outputs": [
    {
     "data": {
      "text/html": [
       "<div>\n",
       "<style scoped>\n",
       "    .dataframe tbody tr th:only-of-type {\n",
       "        vertical-align: middle;\n",
       "    }\n",
       "\n",
       "    .dataframe tbody tr th {\n",
       "        vertical-align: top;\n",
       "    }\n",
       "\n",
       "    .dataframe thead th {\n",
       "        text-align: right;\n",
       "    }\n",
       "</style>\n",
       "<table border=\"1\" class=\"dataframe\">\n",
       "  <thead>\n",
       "    <tr style=\"text-align: right;\">\n",
       "      <th></th>\n",
       "      <th>id</th>\n",
       "      <th>rating</th>\n",
       "      <th>comment</th>\n",
       "      <th>categories</th>\n",
       "      <th>Вопрос решен</th>\n",
       "      <th>Нравится скорость отработки заявок</th>\n",
       "      <th>Нравится качество выполнения заявки</th>\n",
       "      <th>Нравится качество работы сотрудников</th>\n",
       "      <th>Понравилось выполнение заявки</th>\n",
       "      <th>Критика</th>\n",
       "    </tr>\n",
       "  </thead>\n",
       "  <tbody>\n",
       "    <tr>\n",
       "      <th>0</th>\n",
       "      <td>2945792</td>\n",
       "      <td>5</td>\n",
       "      <td>спасибо</td>\n",
       "      <td>Вопрос решен</td>\n",
       "      <td>1.0</td>\n",
       "      <td>0.0</td>\n",
       "      <td>0.0</td>\n",
       "      <td>0.0</td>\n",
       "      <td>0.0</td>\n",
       "      <td>0.0</td>\n",
       "    </tr>\n",
       "    <tr>\n",
       "      <th>1</th>\n",
       "      <td>3234340</td>\n",
       "      <td>5</td>\n",
       "      <td>спасибо!</td>\n",
       "      <td>Вопрос решен</td>\n",
       "      <td>1.0</td>\n",
       "      <td>0.0</td>\n",
       "      <td>0.0</td>\n",
       "      <td>0.0</td>\n",
       "      <td>0.0</td>\n",
       "      <td>0.0</td>\n",
       "    </tr>\n",
       "    <tr>\n",
       "      <th>2</th>\n",
       "      <td>3380332</td>\n",
       "      <td>5</td>\n",
       "      <td>Отлично</td>\n",
       "      <td>Вопрос решен</td>\n",
       "      <td>1.0</td>\n",
       "      <td>0.0</td>\n",
       "      <td>0.0</td>\n",
       "      <td>0.0</td>\n",
       "      <td>0.0</td>\n",
       "      <td>0.0</td>\n",
       "    </tr>\n",
       "    <tr>\n",
       "      <th>3</th>\n",
       "      <td>3381812</td>\n",
       "      <td>5</td>\n",
       "      <td>Благодарю за оперативное решение проблемы !</td>\n",
       "      <td>Нравится скорость отработки заявок, Понравилос...</td>\n",
       "      <td>1.0</td>\n",
       "      <td>1.0</td>\n",
       "      <td>1.0</td>\n",
       "      <td>0.0</td>\n",
       "      <td>0.0</td>\n",
       "      <td>0.0</td>\n",
       "    </tr>\n",
       "    <tr>\n",
       "      <th>4</th>\n",
       "      <td>3461991</td>\n",
       "      <td>5</td>\n",
       "      <td>Прекрасный специалист! Побольше таких</td>\n",
       "      <td>Нравится качество работы сотрудников</td>\n",
       "      <td>0.0</td>\n",
       "      <td>0.0</td>\n",
       "      <td>0.0</td>\n",
       "      <td>1.0</td>\n",
       "      <td>0.0</td>\n",
       "      <td>0.0</td>\n",
       "    </tr>\n",
       "  </tbody>\n",
       "</table>\n",
       "</div>"
      ],
      "text/plain": [
       "        id  rating                                       comment  \\\n",
       "0  2945792       5                                       спасибо   \n",
       "1  3234340       5                                      спасибо!   \n",
       "2  3380332       5                                      Отлично    \n",
       "3  3381812       5  Благодарю за оперативное решение проблемы !    \n",
       "4  3461991       5         Прекрасный специалист! Побольше таких   \n",
       "\n",
       "                                          categories  Вопрос решен  \\\n",
       "0                                       Вопрос решен           1.0   \n",
       "1                                       Вопрос решен           1.0   \n",
       "2                                       Вопрос решен           1.0   \n",
       "3  Нравится скорость отработки заявок, Понравилос...           1.0   \n",
       "4               Нравится качество работы сотрудников           0.0   \n",
       "\n",
       "   Нравится скорость отработки заявок  Нравится качество выполнения заявки  \\\n",
       "0                                 0.0                                  0.0   \n",
       "1                                 0.0                                  0.0   \n",
       "2                                 0.0                                  0.0   \n",
       "3                                 1.0                                  1.0   \n",
       "4                                 0.0                                  0.0   \n",
       "\n",
       "   Нравится качество работы сотрудников  Понравилось выполнение заявки  \\\n",
       "0                                   0.0                            0.0   \n",
       "1                                   0.0                            0.0   \n",
       "2                                   0.0                            0.0   \n",
       "3                                   0.0                            0.0   \n",
       "4                                   1.0                            0.0   \n",
       "\n",
       "   Критика  \n",
       "0      0.0  \n",
       "1      0.0  \n",
       "2      0.0  \n",
       "3      0.0  \n",
       "4      0.0  "
      ]
     },
     "execution_count": 9,
     "metadata": {},
     "output_type": "execute_result"
    }
   ],
   "source": [
    "df = pd.read_csv('output_excel_file.csv')\n",
    "df.head()"
   ]
  },
  {
   "cell_type": "code",
   "execution_count": 10,
   "metadata": {},
   "outputs": [
    {
     "name": "stdout",
     "output_type": "stream",
     "text": [
      "id                                      0\n",
      "rating                                  0\n",
      "comment                                 0\n",
      "categories                              1\n",
      "Вопрос решен                            0\n",
      "Нравится скорость отработки заявок      0\n",
      "Нравится качество выполнения заявки     0\n",
      "Нравится качество работы сотрудников    0\n",
      "Понравилось выполнение заявки           0\n",
      "Критика                                 0\n",
      "dtype: int64\n"
     ]
    }
   ],
   "source": [
    "print(df.isnull().sum())\n"
   ]
  },
  {
   "cell_type": "code",
   "execution_count": 12,
   "metadata": {},
   "outputs": [],
   "source": [
    "df.dropna(inplace=True)\n"
   ]
  },
  {
   "cell_type": "code",
   "execution_count": 13,
   "metadata": {},
   "outputs": [
    {
     "name": "stdout",
     "output_type": "stream",
     "text": [
      "id                                      0\n",
      "rating                                  0\n",
      "comment                                 0\n",
      "categories                              0\n",
      "Вопрос решен                            0\n",
      "Нравится скорость отработки заявок      0\n",
      "Нравится качество выполнения заявки     0\n",
      "Нравится качество работы сотрудников    0\n",
      "Понравилось выполнение заявки           0\n",
      "Критика                                 0\n",
      "dtype: int64\n"
     ]
    }
   ],
   "source": [
    "print(df.isnull().sum())\n"
   ]
  },
  {
   "cell_type": "code",
   "execution_count": 14,
   "metadata": {},
   "outputs": [
    {
     "name": "stdout",
     "output_type": "stream",
     "text": [
      "id                                        int64\n",
      "rating                                    int64\n",
      "comment                                  object\n",
      "categories                               object\n",
      "Вопрос решен                            float64\n",
      "Нравится скорость отработки заявок      float64\n",
      "Нравится качество выполнения заявки     float64\n",
      "Нравится качество работы сотрудников    float64\n",
      "Понравилось выполнение заявки           float64\n",
      "Критика                                 float64\n",
      "dtype: object\n"
     ]
    }
   ],
   "source": [
    "print(df.dtypes)\n"
   ]
  },
  {
   "cell_type": "code",
   "execution_count": 15,
   "metadata": {},
   "outputs": [],
   "source": [
    "df['comment'] = df['comment'].astype(str)"
   ]
  },
  {
   "cell_type": "code",
   "execution_count": 16,
   "metadata": {},
   "outputs": [
    {
     "name": "stdout",
     "output_type": "stream",
     "text": [
      "id                                        int64\n",
      "rating                                    int64\n",
      "comment                                  object\n",
      "categories                               object\n",
      "Вопрос решен                            float64\n",
      "Нравится скорость отработки заявок      float64\n",
      "Нравится качество выполнения заявки     float64\n",
      "Нравится качество работы сотрудников    float64\n",
      "Понравилось выполнение заявки           float64\n",
      "Критика                                 float64\n",
      "dtype: object\n"
     ]
    }
   ],
   "source": [
    "print(df.dtypes)\n"
   ]
  },
  {
   "cell_type": "code",
   "execution_count": 17,
   "metadata": {},
   "outputs": [],
   "source": [
    "import pandas as pd\n",
    "from sklearn.model_selection import train_test_split\n",
    "from sklearn.feature_extraction.text import CountVectorizer\n",
    "from sklearn.ensemble import RandomForestClassifier\n",
    "from sklearn.metrics import classification_report"
   ]
  },
  {
   "cell_type": "code",
   "execution_count": 18,
   "metadata": {},
   "outputs": [],
   "source": [
    "df = pd.read_csv('output_excel_file.csv')"
   ]
  },
  {
   "cell_type": "code",
   "execution_count": 20,
   "metadata": {},
   "outputs": [
    {
     "name": "stdout",
     "output_type": "stream",
     "text": [
      "0\n",
      "0\n",
      "0\n",
      "0\n",
      "0\n",
      "0\n"
     ]
    }
   ],
   "source": [
    "print(df['Вопрос решен'].isnull().sum())  # Проверка на пропуски в первой категории\n",
    "print(df['Нравится скорость отработки заявок'].isnull().sum())  # Проверка на пропуски во второй категории\n",
    "print(df['Нравится качество выполнения заявки'].isnull().sum())  # Проверка на пропуски во второй категории\n",
    "print(df['Нравится качество работы сотрудников'].isnull().sum())  # Проверка на пропуски во второй категории\n",
    "print(df['Понравилось выполнение заявки'].isnull().sum())  # Проверка на пропуски во второй категории\n",
    "print(df['Критика'].isnull().sum())  # Проверка на пропуски во второй категории"
   ]
  },
  {
   "cell_type": "code",
   "execution_count": 21,
   "metadata": {},
   "outputs": [
    {
     "name": "stderr",
     "output_type": "stream",
     "text": [
      "/tmp/ipykernel_57143/3630792297.py:1: FutureWarning: A value is trying to be set on a copy of a DataFrame or Series through chained assignment using an inplace method.\n",
      "The behavior will change in pandas 3.0. This inplace method will never work because the intermediate object on which we are setting values always behaves as a copy.\n",
      "\n",
      "For example, when doing 'df[col].method(value, inplace=True)', try using 'df.method({col: value}, inplace=True)' or df[col] = df[col].method(value) instead, to perform the operation inplace on the original object.\n",
      "\n",
      "\n",
      "  df['Вопрос решен'].fillna(0, inplace=True)\n",
      "/tmp/ipykernel_57143/3630792297.py:2: FutureWarning: A value is trying to be set on a copy of a DataFrame or Series through chained assignment using an inplace method.\n",
      "The behavior will change in pandas 3.0. This inplace method will never work because the intermediate object on which we are setting values always behaves as a copy.\n",
      "\n",
      "For example, when doing 'df[col].method(value, inplace=True)', try using 'df.method({col: value}, inplace=True)' or df[col] = df[col].method(value) instead, to perform the operation inplace on the original object.\n",
      "\n",
      "\n",
      "  df['Нравится скорость отработки заявок'].fillna(0, inplace=True)\n",
      "/tmp/ipykernel_57143/3630792297.py:3: FutureWarning: A value is trying to be set on a copy of a DataFrame or Series through chained assignment using an inplace method.\n",
      "The behavior will change in pandas 3.0. This inplace method will never work because the intermediate object on which we are setting values always behaves as a copy.\n",
      "\n",
      "For example, when doing 'df[col].method(value, inplace=True)', try using 'df.method({col: value}, inplace=True)' or df[col] = df[col].method(value) instead, to perform the operation inplace on the original object.\n",
      "\n",
      "\n",
      "  df['Нравится качество выполнения заявки'].fillna(0, inplace=True)\n",
      "/tmp/ipykernel_57143/3630792297.py:4: FutureWarning: A value is trying to be set on a copy of a DataFrame or Series through chained assignment using an inplace method.\n",
      "The behavior will change in pandas 3.0. This inplace method will never work because the intermediate object on which we are setting values always behaves as a copy.\n",
      "\n",
      "For example, when doing 'df[col].method(value, inplace=True)', try using 'df.method({col: value}, inplace=True)' or df[col] = df[col].method(value) instead, to perform the operation inplace on the original object.\n",
      "\n",
      "\n",
      "  df['Нравится качество работы сотрудников'].fillna(0, inplace=True)\n",
      "/tmp/ipykernel_57143/3630792297.py:5: FutureWarning: A value is trying to be set on a copy of a DataFrame or Series through chained assignment using an inplace method.\n",
      "The behavior will change in pandas 3.0. This inplace method will never work because the intermediate object on which we are setting values always behaves as a copy.\n",
      "\n",
      "For example, when doing 'df[col].method(value, inplace=True)', try using 'df.method({col: value}, inplace=True)' or df[col] = df[col].method(value) instead, to perform the operation inplace on the original object.\n",
      "\n",
      "\n",
      "  df['Понравилось выполнение заявки'].fillna(0, inplace=True)\n",
      "/tmp/ipykernel_57143/3630792297.py:6: FutureWarning: A value is trying to be set on a copy of a DataFrame or Series through chained assignment using an inplace method.\n",
      "The behavior will change in pandas 3.0. This inplace method will never work because the intermediate object on which we are setting values always behaves as a copy.\n",
      "\n",
      "For example, when doing 'df[col].method(value, inplace=True)', try using 'df.method({col: value}, inplace=True)' or df[col] = df[col].method(value) instead, to perform the operation inplace on the original object.\n",
      "\n",
      "\n",
      "  df['Критика'].fillna(0, inplace=True)\n"
     ]
    }
   ],
   "source": [
    "df['Вопрос решен'].fillna(0, inplace=True)\n",
    "df['Нравится скорость отработки заявок'].fillna(0, inplace=True)\n",
    "df['Нравится качество выполнения заявки'].fillna(0, inplace=True)\n",
    "df['Нравится качество работы сотрудников'].fillna(0, inplace=True)\n",
    "df['Понравилось выполнение заявки'].fillna(0, inplace=True)\n",
    "df['Критика'].fillna(0, inplace=True)"
   ]
  },
  {
   "cell_type": "code",
   "execution_count": 23,
   "metadata": {},
   "outputs": [],
   "source": [
    "df.to_csv('output_excel_file.csv', index=False)"
   ]
  },
  {
   "cell_type": "code",
   "execution_count": 24,
   "metadata": {},
   "outputs": [
    {
     "name": "stdout",
     "output_type": "stream",
     "text": [
      "Rounded ROC AUC Scores: [0.97, 0.99, 0.97, 0.99, 0.81, 0.93]\n",
      "Rounded Accuracy Scores: [0.94, 0.99, 0.98, 0.96, 0.96, 0.93]\n",
      "Rounded F1 Scores (Macro): [0.92, 0.99, 0.85, 0.9, 0.54, 0.74]\n",
      "Rounded F1 Scores (Weighted): [0.94, 0.99, 0.97, 0.96, 0.97, 0.91]\n"
     ]
    }
   ],
   "source": [
    "from sklearn.ensemble import RandomForestClassifier\n",
    "from sklearn.metrics import roc_auc_score, classification_report\n",
    "import pandas as pd\n",
    "from sklearn.model_selection import train_test_split\n",
    "from sklearn.feature_extraction.text import CountVectorizer\n",
    "\n",
    "# Загрузка данных\n",
    "df = pd.read_csv('output_excel_file.csv')\n",
    "\n",
    "# Векторизация текстовых данных\n",
    "vectorizer = CountVectorizer()\n",
    "X = vectorizer.fit_transform(df['comment'])\n",
    "\n",
    "# Целевые переменные\n",
    "y = df[['Вопрос решен', \n",
    "         'Нравится скорость отработки заявок', \n",
    "         'Нравится качество выполнения заявки', \n",
    "         'Нравится качество работы сотрудников', \n",
    "         'Понравилось выполнение заявки', \n",
    "         'Критика']]\n",
    "\n",
    "# Разделение данных на обучающую и тестовую выборки\n",
    "X_train, X_test, y_train, y_test = train_test_split(X, y, test_size=0.2, random_state=42)\n",
    "\n",
    "# Словари для хранения метрик\n",
    "roc_auc_scores = []\n",
    "accuracy_scores = []\n",
    "f1_scores_macro = []\n",
    "f1_scores_weighted = []\n",
    "\n",
    "# Обучение и оценка модели для каждой категории\n",
    "for col in y.columns:\n",
    "    model = RandomForestClassifier()\n",
    "    model.fit(X_train, y_train[col])\n",
    "\n",
    "    # Получение предсказанных вероятностей\n",
    "    y_scores = model.predict_proba(X_test)[:, 1]\n",
    "    \n",
    "    # Оценка ROC AUC\n",
    "    roc_auc = roc_auc_score(y_test[col], y_scores)\n",
    "    roc_auc_scores.append(roc_auc)\n",
    "    \n",
    "    # Вывод отчета по классификации\n",
    "    y_pred = model.predict(X_test)\n",
    "    report = classification_report(y_test[col], y_pred, output_dict=True)\n",
    "\n",
    "    accuracy_scores.append(report['accuracy'])\n",
    "    f1_scores_macro.append(report['macro avg']['f1-score'])\n",
    "    f1_scores_weighted.append(report['weighted avg']['f1-score'])\n",
    "\n",
    "# Округление значений\n",
    "roc_auc_scores_rounded = [round(score, 2) for score in roc_auc_scores]\n",
    "accuracy_scores_rounded = [round(score, 2) for score in accuracy_scores]\n",
    "f1_scores_macro_rounded = [round(score, 2) for score in f1_scores_macro]\n",
    "f1_scores_weighted_rounded = [round(score, 2) for score in f1_scores_weighted]\n",
    "\n",
    "# Вывод округленных результатов\n",
    "print(\"Rounded ROC AUC Scores:\", roc_auc_scores_rounded)\n",
    "print(\"Rounded Accuracy Scores:\", accuracy_scores_rounded)\n",
    "print(\"Rounded F1 Scores (Macro):\", f1_scores_macro_rounded)\n",
    "print(\"Rounded F1 Scores (Weighted):\", f1_scores_weighted_rounded)\n",
    "\n"
   ]
  }
 ],
 "metadata": {
  "kernelspec": {
   "display_name": "base",
   "language": "python",
   "name": "python3"
  },
  "language_info": {
   "codemirror_mode": {
    "name": "ipython",
    "version": 3
   },
   "file_extension": ".py",
   "mimetype": "text/x-python",
   "name": "python",
   "nbconvert_exporter": "python",
   "pygments_lexer": "ipython3",
   "version": "3.12.2"
  }
 },
 "nbformat": 4,
 "nbformat_minor": 2
}
